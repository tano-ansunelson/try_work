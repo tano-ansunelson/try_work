{
  "nbformat": 4,
  "nbformat_minor": 0,
  "metadata": {
    "colab": {
      "provenance": []
    },
    "kernelspec": {
      "name": "python3",
      "display_name": "Python 3"
    },
    "language_info": {
      "name": "python"
    }
  },
  "cells": [
    {
      "cell_type": "code",
      "execution_count": null,
      "metadata": {
        "colab": {
          "base_uri": "https://localhost:8080/"
        },
        "id": "AOd-6s9Ru3-o",
        "outputId": "337d98c2-4c0d-497c-a3e1-d1ab9b0d0ce1"
      },
      "outputs": [
        {
          "output_type": "stream",
          "name": "stdout",
          "text": [
            "Hi Nelson from CS\n"
          ]
        }
      ],
      "source": [
        "def greet(name=\"Nelson\",dept=\"CS\"):\n",
        "    print(f\"Hi {name} from {dept}\")\n",
        "greet()"
      ]
    },
    {
      "cell_type": "code",
      "source": [
        "\n",
        "def add(*number):\n",
        "  a=0\n",
        "  for i in number:\n",
        "    a+=i\n",
        "  print(a)\n",
        "add(4,5,3,5,6,-89,75,)\n"
      ],
      "metadata": {
        "colab": {
          "base_uri": "https://localhost:8080/"
        },
        "id": "Ajjh5M1lw5XM",
        "outputId": "7c65e866-8817-4f18-9ada-ae109fff74a4"
      },
      "execution_count": null,
      "outputs": [
        {
          "output_type": "stream",
          "name": "stdout",
          "text": [
            "9\n"
          ]
        }
      ]
    },
    {
      "cell_type": "code",
      "source": [
        "alphabet = ['a', 'b', 'c', 'd', 'e', 'f', 'g', 'h', 'i', 'j',\n",
        "            'k', 'l', 'm', 'n', 'o', 'p', 'q',\n",
        "            'r', 's', 't', 'u', 'v', 'w', 'x', 'y', 'z']\n",
        "\n",
        "def encryption(text,shift):\n",
        "    cipher_text=\"\"\n",
        "    for char in text:\n",
        "      if char in alphabet:\n",
        "        position=alphabet.index(char)\n",
        "        new_position=(position+shift)%26\n",
        "        cipher_text+=alphabet[new_position]\n",
        "      else:\n",
        "        cipher_text+=char\n",
        "    print(f\"The encoded text is: {cipher_text}\")\n",
        "\n",
        "def decryption(cipher_text,shift):\n",
        "    plain_text=\"\"\n",
        "    for char in cipher_text:\n",
        "      if char in alphabet:\n",
        "        position=alphabet.index(char)\n",
        "        new_position=(position-shift)%26\n",
        "        plain_text+=alphabet[new_position]\n",
        "      else:\n",
        "        plain_text+=char\n",
        "    print(f\"The decoded text is: { plain_text}\")\n",
        "end_game=False\n",
        "while not end_game:\n",
        "  what_to_do=input(\"Type 'encrypt' for encrption 'decrypt' for decryption \").lower()\n",
        "  text=input(\"Enter the text \").lower()\n",
        "  shift=int(input(\"Enter the shift \"))\n",
        "\n",
        "  if what_to_do==\"encrypt\":\n",
        "    encryption(text,shift)\n",
        "  elif what_to_do==\"decrypt\":\n",
        "    decryption(text,shift)\n",
        "\n",
        "  play_again=input(\"Type 'yes' to continue, type 'no' to stop\")\n",
        "  if play_again==\"no\":\n",
        "    end_game=True\n",
        "    print(\"Goodbye\")\n",
        "\n",
        "\n",
        "\n"
      ],
      "metadata": {
        "colab": {
          "base_uri": "https://localhost:8080/",
          "height": 529
        },
        "id": "dG4tkKGaw5Tn",
        "outputId": "685fac47-9ed3-4248-b47b-af246ead139c"
      },
      "execution_count": null,
      "outputs": [
        {
          "output_type": "stream",
          "name": "stdout",
          "text": [
            "Type 'encrypt' for encrption 'decrypt' for decryption encrypt\n",
            "Enter the text hello\n",
            "Enter the shift 4\n",
            "The encoded text is: lipps\n",
            "Type 'yes' to continue, type 'no' to stopyes\n",
            "Type 'encrypt' for encrption 'decrypt' for decryption decrypt\n",
            "Enter the text lipps\n",
            "Enter the shift 4\n",
            "The decoded text is: hello\n"
          ]
        },
        {
          "output_type": "error",
          "ename": "KeyboardInterrupt",
          "evalue": "Interrupted by user",
          "traceback": [
            "\u001b[0;31m---------------------------------------------------------------------------\u001b[0m",
            "\u001b[0;31mKeyboardInterrupt\u001b[0m                         Traceback (most recent call last)",
            "\u001b[0;32m<ipython-input-36-13220b4c4ade>\u001b[0m in \u001b[0;36m<cell line: 27>\u001b[0;34m()\u001b[0m\n\u001b[1;32m     35\u001b[0m     \u001b[0mdecryption\u001b[0m\u001b[0;34m(\u001b[0m\u001b[0mtext\u001b[0m\u001b[0;34m,\u001b[0m\u001b[0mshift\u001b[0m\u001b[0;34m)\u001b[0m\u001b[0;34m\u001b[0m\u001b[0;34m\u001b[0m\u001b[0m\n\u001b[1;32m     36\u001b[0m \u001b[0;34m\u001b[0m\u001b[0m\n\u001b[0;32m---> 37\u001b[0;31m   \u001b[0mplay_again\u001b[0m\u001b[0;34m=\u001b[0m\u001b[0minput\u001b[0m\u001b[0;34m(\u001b[0m\u001b[0;34m\"Type 'yes' to continue, type 'no' to stop\"\u001b[0m\u001b[0;34m)\u001b[0m\u001b[0;34m\u001b[0m\u001b[0;34m\u001b[0m\u001b[0m\n\u001b[0m\u001b[1;32m     38\u001b[0m   \u001b[0;32mif\u001b[0m \u001b[0mplay_again\u001b[0m\u001b[0;34m==\u001b[0m\u001b[0;34m\"no\"\u001b[0m\u001b[0;34m:\u001b[0m\u001b[0;34m\u001b[0m\u001b[0;34m\u001b[0m\u001b[0m\n\u001b[1;32m     39\u001b[0m     \u001b[0mend_game\u001b[0m\u001b[0;34m=\u001b[0m\u001b[0;32mTrue\u001b[0m\u001b[0;34m\u001b[0m\u001b[0;34m\u001b[0m\u001b[0m\n",
            "\u001b[0;32m/usr/local/lib/python3.10/dist-packages/ipykernel/kernelbase.py\u001b[0m in \u001b[0;36mraw_input\u001b[0;34m(self, prompt)\u001b[0m\n\u001b[1;32m    849\u001b[0m                 \u001b[0;34m\"raw_input was called, but this frontend does not support input requests.\"\u001b[0m\u001b[0;34m\u001b[0m\u001b[0;34m\u001b[0m\u001b[0m\n\u001b[1;32m    850\u001b[0m             )\n\u001b[0;32m--> 851\u001b[0;31m         return self._input_request(str(prompt),\n\u001b[0m\u001b[1;32m    852\u001b[0m             \u001b[0mself\u001b[0m\u001b[0;34m.\u001b[0m\u001b[0m_parent_ident\u001b[0m\u001b[0;34m,\u001b[0m\u001b[0;34m\u001b[0m\u001b[0;34m\u001b[0m\u001b[0m\n\u001b[1;32m    853\u001b[0m             \u001b[0mself\u001b[0m\u001b[0;34m.\u001b[0m\u001b[0m_parent_header\u001b[0m\u001b[0;34m,\u001b[0m\u001b[0;34m\u001b[0m\u001b[0;34m\u001b[0m\u001b[0m\n",
            "\u001b[0;32m/usr/local/lib/python3.10/dist-packages/ipykernel/kernelbase.py\u001b[0m in \u001b[0;36m_input_request\u001b[0;34m(self, prompt, ident, parent, password)\u001b[0m\n\u001b[1;32m    893\u001b[0m             \u001b[0;32mexcept\u001b[0m \u001b[0mKeyboardInterrupt\u001b[0m\u001b[0;34m:\u001b[0m\u001b[0;34m\u001b[0m\u001b[0;34m\u001b[0m\u001b[0m\n\u001b[1;32m    894\u001b[0m                 \u001b[0;31m# re-raise KeyboardInterrupt, to truncate traceback\u001b[0m\u001b[0;34m\u001b[0m\u001b[0;34m\u001b[0m\u001b[0m\n\u001b[0;32m--> 895\u001b[0;31m                 \u001b[0;32mraise\u001b[0m \u001b[0mKeyboardInterrupt\u001b[0m\u001b[0;34m(\u001b[0m\u001b[0;34m\"Interrupted by user\"\u001b[0m\u001b[0;34m)\u001b[0m \u001b[0;32mfrom\u001b[0m \u001b[0;32mNone\u001b[0m\u001b[0;34m\u001b[0m\u001b[0;34m\u001b[0m\u001b[0m\n\u001b[0m\u001b[1;32m    896\u001b[0m             \u001b[0;32mexcept\u001b[0m \u001b[0mException\u001b[0m \u001b[0;32mas\u001b[0m \u001b[0me\u001b[0m\u001b[0;34m:\u001b[0m\u001b[0;34m\u001b[0m\u001b[0;34m\u001b[0m\u001b[0m\n\u001b[1;32m    897\u001b[0m                 \u001b[0mself\u001b[0m\u001b[0;34m.\u001b[0m\u001b[0mlog\u001b[0m\u001b[0;34m.\u001b[0m\u001b[0mwarning\u001b[0m\u001b[0;34m(\u001b[0m\u001b[0;34m\"Invalid Message:\"\u001b[0m\u001b[0;34m,\u001b[0m \u001b[0mexc_info\u001b[0m\u001b[0;34m=\u001b[0m\u001b[0;32mTrue\u001b[0m\u001b[0;34m)\u001b[0m\u001b[0;34m\u001b[0m\u001b[0;34m\u001b[0m\u001b[0m\n",
            "\u001b[0;31mKeyboardInterrupt\u001b[0m: Interrupted by user"
          ]
        }
      ]
    },
    {
      "cell_type": "code",
      "source": [
        "dic={\n",
        "    \"Nelson\":67,\n",
        "    \"Tano\":89,\n",
        "    \"Ansu\":80,\n",
        "    \"Mary\":90,\n",
        "    \"Asuama\":91,\n",
        "    \"Stephanie\":98,\n",
        "    \"Rhoda\":32,\n",
        "    \"Bemaah\":53\n",
        "}\n",
        "student_grade={}\n",
        "\n",
        "for student in dic:\n",
        "  marks=dic[student]\n",
        "  if marks>=91:\n",
        "    student_grade[student]=\"A+\"\n",
        "  elif marks>=81:\n",
        "    student_grade[student]=\"A\"\n",
        "  elif marks>=71:\n",
        "    student_grade[student]=\"B+\"\n",
        "  elif marks>=61:\n",
        "    student_grade[student]=\"B\"\n",
        "  elif marks>=51:\n",
        "    student_grade[student]=\"C\"\n",
        "  elif marks>=41:\n",
        "    student_grade[student]=\"D\"\n",
        "  else:\n",
        "    student_grade[student]=\"F\"\n",
        "print(student_grade)\n",
        "\n",
        "\n",
        "\n"
      ],
      "metadata": {
        "colab": {
          "base_uri": "https://localhost:8080/"
        },
        "id": "Umc6W6sQw5RA",
        "outputId": "b0c7d88d-6e39-4c0c-b5e5-d04b532ac789"
      },
      "execution_count": null,
      "outputs": [
        {
          "output_type": "stream",
          "name": "stdout",
          "text": [
            "{'Nelson': 'B', 'Tano': 'A', 'Ansu': 'B+', 'Mary': 'A', 'Asuama': 'A+', 'Stephanie': 'A+', 'Rhoda': 'F', 'Bemaah': 'C'}\n"
          ]
        }
      ]
    },
    {
      "cell_type": "code",
      "source": [
        "student_data={\n",
        "    \"Nelson\":{\"no\":453, \"age\":23,\"course\":\"CS\"},\n",
        "    \"Tano\":{\"no\":457, \"age\":25,\"course\":\"MC\"},\n",
        "    \"Ansu\":{\"no\":454, \"age\":22,\"course\":\"CS\"},\n",
        "    \"Mary\":{\"no\":455, \"age\":21,\"course\":\"TC\"},\n",
        "    \"Asuama\":{\"no\":456, \"age\":20,\"course\":\"BC\"}\n",
        "\n",
        "}\n",
        "print(student_data[\"Nelson\"][\"age\"])\n",
        "student_data[\"Nelson\"][\"phone_no\"] = 553509\n",
        "#print(student_data[\"Nelson\"])\n",
        "del student_data[\"Nelson\"][\"phone_no\"]\n",
        "print(student_data[\"Nelson\"])"
      ],
      "metadata": {
        "colab": {
          "base_uri": "https://localhost:8080/"
        },
        "id": "eKcut_9JATP5",
        "outputId": "1f06b6f4-012a-46b2-fdef-2158bac68947"
      },
      "execution_count": null,
      "outputs": [
        {
          "output_type": "stream",
          "name": "stdout",
          "text": [
            "23\n",
            "{'no': 453, 'age': 23, 'course': 'CS'}\n"
          ]
        }
      ]
    },
    {
      "cell_type": "code",
      "source": [
        "student=[\n",
        "    {\"name\":\"Nelson\",\n",
        "     \"no\":453,\n",
        "     \"age\":23,\n",
        "     \"course\":\"CS\"\n",
        "    },\n",
        "    {\"name\":\"Tano\",\n",
        "     \"no\":457,\n",
        "     \"age\":25,\n",
        "     \"course\":\"MC\"\n",
        "     },\n",
        "]\n",
        "# def add_student(name,no,age,course):\n",
        "#   student.insert(1,{\n",
        "#       \"name\":name,\n",
        "#       \"no\":no,\n",
        "#       \"age\":age,\n",
        "#       \"course\":course\n",
        "#   })\n",
        "# add_student(\"Ansu\",454,22,\"CS\")\n",
        "# print(student[1])\n",
        "def add_student(name,no,age,course):\n",
        "  new_student={}\n",
        "  new_student[\"name\"]=name\n",
        "  new_student[\"no\"]=no\n",
        "  new_student[\"age\"]=age\n",
        "  new_student[\"course\"]=course\n",
        "  student.append(new_student)\n",
        "add_student(\"Ansu\",454,22,\"CS\")\n",
        "print(student)\n",
        "\n"
      ],
      "metadata": {
        "colab": {
          "base_uri": "https://localhost:8080/"
        },
        "id": "dFRuiUBIATMY",
        "outputId": "605e7d32-cb22-438e-a3c6-343062e85da6"
      },
      "execution_count": null,
      "outputs": [
        {
          "output_type": "stream",
          "name": "stdout",
          "text": [
            "[{'name': 'Nelson', 'no': 453, 'age': 23, 'course': 'CS'}, {'name': 'Tano', 'no': 457, 'age': 25, 'course': 'MC'}, {'name': 'Ansu', 'no': 454, 'age': 22, 'course': 'CS'}]\n"
          ]
        }
      ]
    },
    {
      "cell_type": "code",
      "source": [
        "import os\n",
        "def find_winner(bidder_details):\n",
        "  highest_bid=0\n",
        "  winner=\"\"\n",
        "  for bidder in bidder_details:\n",
        "    bid_amount=bidder_details[bidder]\n",
        "    if bid_amount>highest_bid:\n",
        "      highest_bid=bid_amount\n",
        "      winner=bidder\n",
        "  print(f\"The winner is {winner} with a bid of $ {highest_bid}\")\n",
        "\n",
        "\n",
        "\n",
        "game_over=False\n",
        "game={}\n",
        "\n",
        "\n",
        "while not game_over:\n",
        "  Name=input(\"Enter your name \")\n",
        "  Bid=int(input(\"Enter your bid \"))\n",
        "  game[Name]=Bid\n",
        "  more_bidders=input(\"Are there more bidders? Type 'yes' or 'no': \").lower()\n",
        "  if more_bidders==\"no\":\n",
        "    game_over=True\n",
        "    find_winner(game)\n",
        "\n",
        "\n",
        "\n",
        "\n",
        "\n",
        "\n",
        "\n",
        "\n",
        "\n",
        "\n"
      ],
      "metadata": {
        "collapsed": true,
        "colab": {
          "base_uri": "https://localhost:8080/"
        },
        "id": "5Bcxl_sRATIP",
        "outputId": "09f44ef8-c025-4122-9589-0dc6e83df495"
      },
      "execution_count": null,
      "outputs": [
        {
          "output_type": "stream",
          "name": "stdout",
          "text": [
            "Enter your name ajosf\n",
            "Enter your bid 789\n",
            "Are there more bidders? Type 'yes' or 'no': yes\n",
            "Enter your name ong\n",
            "Enter your bid 7900\n",
            "Are there more bidders? Type 'yes' or 'no': no\n",
            "The winner is ong with a bid of $ 7900\n"
          ]
        }
      ]
    },
    {
      "cell_type": "code",
      "source": [
        "import statistics\n",
        "\n",
        "def mean_median_mode(numbers):\n",
        "  return statistics.mean(numbers),statistics.median(numbers),statistics.mode(numbers)\n",
        "\n",
        "\n",
        "\n",
        "\n",
        "mean_median_mode([1,2,3,4,5,6,7,8,9,10])"
      ],
      "metadata": {
        "colab": {
          "base_uri": "https://localhost:8080/"
        },
        "id": "E2M30M_FATFb",
        "outputId": "f05f1cad-01fb-4612-9299-0b8a6ecdde9a"
      },
      "execution_count": null,
      "outputs": [
        {
          "output_type": "execute_result",
          "data": {
            "text/plain": [
              "(5.5, 5.5, 1)"
            ]
          },
          "metadata": {},
          "execution_count": 3
        }
      ]
    },
    {
      "cell_type": "code",
      "source": [
        "\n",
        "def leap_year(year):\n",
        "  if year%4==0:\n",
        "    if year%100==0:\n",
        "      if year%400==0:\n",
        "        return True\n",
        "      else:\n",
        "        return False\n",
        "    else:\n",
        "      return True\n",
        "  else:\n",
        "   return False\n",
        "def days_in_months(year,month):\n",
        "  month_days=[31,28,31,30,31,30,31,31,30,31,30,31]\n",
        "  if month>12 or month<1:\n",
        "    return \"Invalid month\"\n",
        "  if leap_year(year) and month==2:\n",
        "    return 29\n",
        "  return month_days[month-1]\n",
        "\n",
        "year=int(input(\"Enter the year \"))\n",
        "month=int(input(\"Enter the month \"))\n",
        "days=days_in_months(year,month)\n",
        "print(days)\n",
        "\n",
        "\n",
        "\n",
        "\n"
      ],
      "metadata": {
        "colab": {
          "base_uri": "https://localhost:8080/"
        },
        "id": "LAiFXXLuATCD",
        "outputId": "ae0e91ea-02f7-4be0-bba8-5c97e02d9877"
      },
      "execution_count": null,
      "outputs": [
        {
          "output_type": "stream",
          "name": "stdout",
          "text": [
            "Enter the year 2001\n",
            "Enter the month 11\n",
            "30\n"
          ]
        }
      ]
    },
    {
      "cell_type": "code",
      "source": [
        "def add(a,b):\n",
        "  return a+b\n",
        "def sub(a,b):\n",
        "  return a-b\n",
        "def mul(a,b):\n",
        "  return a*b\n",
        "def div(a,b):\n",
        "  return a/b\n",
        "\n",
        "operatins_dict={\n",
        "    \"+\":add,\n",
        "    \"-\":sub,\n",
        "    \"*\":mul,\n",
        "    \"/\":div\n",
        "}\n",
        "def calculator():\n",
        "  num1=int(input(\"Enter the first number \"))\n",
        "  for symbol in operatins_dict:\n",
        "    print(symbol)\n",
        "  Done=False\n",
        "  while not Done:\n",
        "    op_symbol=input(\"Pick an operation from the line above \")\n",
        "    num2=int(input(\"Enter the second number \"))\n",
        "\n",
        "    calculation_function=operatins_dict[op_symbol]\n",
        "    answer=calculation_function(num1,num2)\n",
        "    print(f\"{num1} {op_symbol} {num2} = {answer}\")\n",
        "\n",
        "    should_continue=input(f\"Type 'y' to continue calculating with {answer}, or type 'n' to start a new calculation or 'x' to exit: \").lower()\n",
        "\n",
        "    if should_continue==\"y\":\n",
        "      num1=answer\n",
        "    elif should_continue==\"n\":\n",
        "      Done=True\n",
        "      calculator()\n",
        "    elif should_continue==\"x\":\n",
        "      Done = True\n",
        "\n",
        "calculator()\n",
        "\n",
        "\n",
        "\n",
        "\n",
        "\n",
        "\n"
      ],
      "metadata": {
        "collapsed": true,
        "colab": {
          "base_uri": "https://localhost:8080/"
        },
        "id": "No2kt9hQW7TK",
        "outputId": "fdd4c592-c7cb-4351-d2cd-db6cdf549a9c"
      },
      "execution_count": null,
      "outputs": [
        {
          "name": "stdout",
          "output_type": "stream",
          "text": [
            "Enter the first number 5\n",
            "+\n",
            "-\n",
            "*\n",
            "/\n",
            "Pick an operation from the line above +\n",
            "Enter the second number 7\n",
            "5 + 7 = 12\n",
            "Type 'y' to continue calculating with 12, or type 'n' to start a new calculation or 'x' to exit: x\n"
          ]
        }
      ]
    },
    {
      "cell_type": "code",
      "source": [
        "import random\n",
        "hard_level=5\n",
        "easy_level=10\n",
        "def Game(game_level):\n",
        "  if game_level==\"easy\":\n",
        "    return easy_level\n",
        "  elif game_level==\"hard\":\n",
        "    return hard_level\n",
        "  else:\n",
        "    return\n",
        "\n",
        "def check_number(computer_choice,guess_number,game):\n",
        "  if guess_number<computer_choice:\n",
        "    print(\"Too low\")\n",
        "    return game-1\n",
        "  elif guess_number>computer_choice:\n",
        "    print(\"Too high\")\n",
        "    return game-1\n",
        "  else:\n",
        "    print(f\"You got it! The answer was {computer_choice}\")\n",
        "\n",
        "\n",
        "print(\"Welcome to the number guessing game\")\n",
        "print(\"Let me think of a number between 1 to 50\")\n",
        "\n",
        "computer_choice=random.randint(1,50)\n",
        "print(computer_choice)\n",
        "game_level=input(\"Choose a difficulty. Type 'easy' or 'hard' \").lower()\n",
        "game=Game(game_level)\n",
        "if game!=easy_level and game!=hard_level:\n",
        "  print(\"Invalid input\")\n",
        "\n",
        "guess_number=0\n",
        "def games():\n",
        "  while guess_number!=computer_choice:\n",
        "    print(f\"You have {game} attempts remaining to guess the number\")\n",
        "    guess_number=int(input(\"Enter your guess \"))\n",
        "    game=check_number(computer_choice,guess_number,game)\n",
        "    if game==0:\n",
        "      print(\"You've run out of guesses. You lose\")\n",
        "      return\n",
        "    elif guess_number!=computer_choice:\n",
        "      print(\"Guess again\")\n",
        "\n",
        "\n",
        "games()\n",
        "\n",
        "\n"
      ],
      "metadata": {
        "colab": {
          "base_uri": "https://localhost:8080/"
        },
        "id": "CHmO4PJwW7FH",
        "outputId": "8bb89885-69ef-4570-b36c-5c44a51e2474"
      },
      "execution_count": null,
      "outputs": [
        {
          "name": "stdout",
          "output_type": "stream",
          "text": [
            "Let me think of a number between 1 to 50\n",
            "2\n",
            "Choose a difficulty. Type 'easy' or 'hard' 6\n",
            "Enter your guess 6\n"
          ]
        }
      ]
    },
    {
      "cell_type": "code",
      "source": [
        "import random\n",
        "score=0\n",
        "data=[\n",
        " {\"name\":\"Nelson\",\n",
        "  \"followers\":453,\n",
        "  \"room\":23,\n",
        "  \"course\":\"CS\"\n",
        " },\n",
        " {\"name\":\"Tano\",\n",
        "  \"followers\":457,\n",
        "  \"room\":25,\n",
        "  \"course\":\"MC\",\n",
        "  },\n",
        " {\"name\":\"Ansu\",\n",
        "  \"followers\":454,\n",
        "  \"room\":22,\n",
        "  \"course\":\"CS\"\n",
        " },\n",
        " {\"name\":\"Stephanie\",\n",
        "  \"followers\":455,\n",
        "  \"room\":21,\n",
        "  \"course\":\"TC\"\n",
        " },\n",
        " {\"name\":\"Asuama\",\n",
        "  \"followers\":456,\n",
        "  \"room\":20,\n",
        "  \"course\":\"BC\"\n",
        "\n",
        " },\n",
        "{\n",
        "  \"name\":\"Atoapomaa\",\n",
        " \"followers\":458,\n",
        "  \"room\":20,\n",
        "  \"course\":\"BC\"\n",
        "}\n",
        "]\n",
        "\n",
        "def display_account(account):\n",
        "  name=account[\"name\"]\n",
        "  room=account[\"room\"]\n",
        "  course=account[\"course\"]\n",
        "  return f\"{name} from {room} in {course}\"\n",
        "def check_answer(guess,followers_1,followers_2):\n",
        "  if followers_1<followers_2:\n",
        "    if guess==1:\n",
        "      return False\n",
        "    else:\n",
        "      return True\n",
        "  else:\n",
        "    if guess==1:\n",
        "      return True\n",
        "    else:\n",
        "      return False\n",
        "account_2=random.choice(data)\n",
        "flag=True\n",
        "while flag:\n",
        "  account_1=account_2\n",
        "  account_2=random.choice(data)\n",
        "  while account_1==account_2:\n",
        "    account_2=random.choice(data)\n",
        "  print(f\"Compare 1: {display_account(account_1)}\")\n",
        "  print(\"VS\")\n",
        "  print(f\"Compare 2: {display_account(account_2)}\")\n",
        "  guess=input(\"Who has more followers? Type '1' or '2': \").lower()\n",
        "  followers_1=account_1[\"followers\"]\n",
        "  followers_2=account_2[\"followers\"]\n",
        "  # def check_answer(guess,account_1,account_2):\n",
        "  #   if account_1[\"followers\"]>account_2[\"followers\"]:\n",
        "  #     return guess==\"a\"\n",
        "  #   else:\n",
        "  #     return guess==\"b\"\n",
        "  print(followers_1)\n",
        "  print(followers_2)\n",
        "  is_correct =check_answer(guess,followers_1,followers_2)\n",
        "  if is_correct==True:\n",
        "    score+=1\n",
        "    print(f\"You're right! Current score: {score}\")\n",
        "    account_1=account_2\n",
        "    account_2=random.choice(data)\n",
        "  else:\n",
        "    print(f\"Sorry, that's wrong. Final score: {score}\")\n",
        "    flag=False\n",
        "\n"
      ],
      "metadata": {
        "colab": {
          "base_uri": "https://localhost:8080/"
        },
        "id": "w4wmjZgiW63x",
        "outputId": "c9900572-2c03-44cb-d7eb-541c07b40c7c"
      },
      "execution_count": null,
      "outputs": [
        {
          "output_type": "stream",
          "name": "stdout",
          "text": [
            "Compare 1: Nelson from 23 in CS\n",
            "VS\n",
            "Compare 2: Atoapomaa from 20 in BC\n",
            "Who has more followers? Type '1' or '2': 1\n",
            "453\n",
            "458\n",
            "You're right! Current score: 1\n",
            "Compare 1: Stephanie from 21 in TC\n",
            "VS\n",
            "Compare 2: Ansu from 22 in CS\n",
            "Who has more followers? Type '1' or '2': 1\n",
            "455\n",
            "454\n",
            "Sorry, that's wrong. Final score: 1\n"
          ]
        }
      ]
    },
    {
      "cell_type": "code",
      "source": [],
      "metadata": {
        "id": "aSAcM_hQAAjf"
      },
      "execution_count": null,
      "outputs": []
    },
    {
      "cell_type": "code",
      "source": [],
      "metadata": {
        "id": "Ht4vp37zAAgH"
      },
      "execution_count": null,
      "outputs": []
    },
    {
      "cell_type": "code",
      "source": [],
      "metadata": {
        "id": "nDsh0aCCAAdO"
      },
      "execution_count": null,
      "outputs": []
    },
    {
      "cell_type": "code",
      "source": [],
      "metadata": {
        "id": "H8cYhwviAAbc"
      },
      "execution_count": null,
      "outputs": []
    },
    {
      "cell_type": "code",
      "source": [],
      "metadata": {
        "id": "XEbbiAGmAAZE"
      },
      "execution_count": null,
      "outputs": []
    },
    {
      "cell_type": "code",
      "source": [],
      "metadata": {
        "id": "YhmRefQ0AAWg"
      },
      "execution_count": null,
      "outputs": []
    },
    {
      "cell_type": "code",
      "source": [],
      "metadata": {
        "id": "tFQynTGjAATp"
      },
      "execution_count": null,
      "outputs": []
    },
    {
      "cell_type": "code",
      "source": [],
      "metadata": {
        "id": "qkBkBvMhAAQ0"
      },
      "execution_count": null,
      "outputs": []
    },
    {
      "cell_type": "code",
      "source": [],
      "metadata": {
        "id": "yamYDHjQAAOM"
      },
      "execution_count": null,
      "outputs": []
    },
    {
      "cell_type": "code",
      "source": [],
      "metadata": {
        "id": "HebWznTVAAEm"
      },
      "execution_count": null,
      "outputs": []
    },
    {
      "cell_type": "code",
      "source": [
        "def inf_person(**person):\n",
        "    for key,value in person.items():\n",
        "      print(key,value)\n",
        "\n",
        "inf_person(name=\"Nelson\",dept=\"CS\", age=34)"
      ],
      "metadata": {
        "colab": {
          "base_uri": "https://localhost:8080/"
        },
        "id": "Bf4OKCTDw5OV",
        "outputId": "d26fe0ea-003d-4de8-dbdb-74ca4c517b81"
      },
      "execution_count": null,
      "outputs": [
        {
          "output_type": "stream",
          "name": "stdout",
          "text": [
            "name Nelson\n",
            "dept CS\n",
            "age 34\n"
          ]
        }
      ]
    },
    {
      "cell_type": "code",
      "source": [
        "def multiply(*number):\n",
        "  a=1\n",
        "  for i in number:\n",
        "    a*=i\n",
        "  print(a)\n",
        "multiply(2,3,4,6,3,7,8)"
      ],
      "metadata": {
        "colab": {
          "base_uri": "https://localhost:8080/"
        },
        "id": "flYDvL2ww5Lo",
        "outputId": "1d20b67f-60d5-4cd7-901e-f685ae8da18b"
      },
      "execution_count": null,
      "outputs": [
        {
          "output_type": "stream",
          "name": "stdout",
          "text": [
            "24192\n"
          ]
        }
      ]
    },
    {
      "cell_type": "code",
      "source": [],
      "metadata": {
        "id": "tc9tNM9sw5I4"
      },
      "execution_count": null,
      "outputs": []
    },
    {
      "cell_type": "code",
      "source": [],
      "metadata": {
        "id": "a1Mnqe39w5Gg"
      },
      "execution_count": null,
      "outputs": []
    },
    {
      "cell_type": "code",
      "source": [],
      "metadata": {
        "id": "q7Cu5NTUw5D6"
      },
      "execution_count": null,
      "outputs": []
    },
    {
      "cell_type": "code",
      "source": [],
      "metadata": {
        "id": "wzP0B2DXw47b"
      },
      "execution_count": null,
      "outputs": []
    }
  ]
}